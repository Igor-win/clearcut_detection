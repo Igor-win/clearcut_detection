{
 "cells": [
  {
   "cell_type": "code",
   "execution_count": 22,
   "metadata": {},
   "outputs": [],
   "source": [
    "import geopandas as gpd\n",
    "import numpy as np\n",
    "from shapely.ops import cascaded_union\n",
    "from shapely.geometry import Polygon"
   ]
  },
  {
   "cell_type": "code",
   "execution_count": 4,
   "metadata": {},
   "outputs": [],
   "source": [
    "predicted_path = \"/home/user/projects/clearcut_detection/data/predicted/predicted_20160103_66979721-be1b-4451-84e0-4a573236defd.geojson\"\n",
    "pred = gpd.read_file(predicted_path)"
   ]
  },
  {
   "cell_type": "code",
   "execution_count": 21,
   "metadata": {},
   "outputs": [],
   "source": [
    "sum_coords = []\n",
    "for num, row in pred.iterrows():\n",
    "    sum_coords.extend(list(row['geometry'].exterior.coords))"
   ]
  },
  {
   "cell_type": "code",
   "execution_count": 108,
   "metadata": {},
   "outputs": [],
   "source": [
    "gt_poly.crs = {'init' :'epsg:4326'}"
   ]
  },
  {
   "cell_type": "code",
   "execution_count": 111,
   "metadata": {},
   "outputs": [],
   "source": [
    "gt_poly = gt_poly.to_crs({'init': \"epsg:32637\"})"
   ]
  },
  {
   "cell_type": "code",
   "execution_count": 112,
   "metadata": {},
   "outputs": [],
   "source": [
    "sum_coords = []\n",
    "for num, row in gt_poly.iterrows():\n",
    "    sum_coords.extend(list(row['geometry'].exterior.coords))"
   ]
  },
  {
   "cell_type": "code",
   "execution_count": 113,
   "metadata": {},
   "outputs": [],
   "source": [
    "base_bound = Polygon(sum_coords).bounds"
   ]
  },
  {
   "cell_type": "code",
   "execution_count": 114,
   "metadata": {},
   "outputs": [],
   "source": [
    "p2 = Polygon(\n",
    "            [(base_bound[0], base_bound[1]),\n",
    "             (base_bound[0], base_bound[3]),\n",
    "             (base_bound[2], base_bound[3]),\n",
    "             (base_bound[2], base_bound[1])\n",
    "             ])"
   ]
  },
  {
   "cell_type": "code",
   "execution_count": 115,
   "metadata": {},
   "outputs": [
    {
     "data": {
      "text/plain": [
       "(array('d', [262575.75868537056, 262575.75868537056, 356329.76694924606, 356329.76694924606, 262575.75868537056]),\n",
       " array('d', [5478583.44112516, 5581428.357466508, 5581428.357466508, 5478583.44112516, 5478583.44112516]))"
      ]
     },
     "execution_count": 115,
     "metadata": {},
     "output_type": "execute_result"
    }
   ],
   "source": [
    "p2.exterior.coords.xy"
   ]
  },
  {
   "cell_type": "code",
   "execution_count": 120,
   "metadata": {},
   "outputs": [],
   "source": [
    "p3 = p1.intersection(p2)"
   ]
  },
  {
   "cell_type": "code",
   "execution_count": null,
   "metadata": {},
   "outputs": [],
   "source": []
  },
  {
   "cell_type": "code",
   "execution_count": 56,
   "metadata": {},
   "outputs": [],
   "source": [
    "p1 = Polygon(\n",
    "            [(base_bound[0], base_bound[1]),\n",
    "             (base_bound[0], base_bound[3]),\n",
    "             (base_bound[2], base_bound[3]),\n",
    "             (base_bound[2], base_bound[1])\n",
    "             ])"
   ]
  },
  {
   "cell_type": "code",
   "execution_count": 121,
   "metadata": {},
   "outputs": [],
   "source": [
    "united_poly = gpd.GeoDataFrame(geometry=[p3])\n",
    "united_poly.to_file(\"/home/user/projects/clearcut_detection/data/predicted/intersection_f1.geojson\", driver=\"GeoJSON\")"
   ]
  },
  {
   "cell_type": "code",
   "execution_count": 124,
   "metadata": {},
   "outputs": [],
   "source": [
    "gt_for_f1 = gt_poly[gt_poly.intersects(p3)]"
   ]
  },
  {
   "cell_type": "code",
   "execution_count": 125,
   "metadata": {},
   "outputs": [],
   "source": [
    "pred_for_f1 = pred[pred.intersects(p3)]"
   ]
  },
  {
   "cell_type": "code",
   "execution_count": 126,
   "metadata": {},
   "outputs": [],
   "source": [
    "pred_for_f1.to_file(\"/home/user/projects/clearcut_detection/data/predicted/res_for_f1.geojson\", driver=\"GeoJSON\")"
   ]
  },
  {
   "cell_type": "code",
   "execution_count": 127,
   "metadata": {},
   "outputs": [],
   "source": [
    "gt_for_f1.to_file(\"/home/user/projects/clearcut_detection/data/predicted/gt_for_f1.geojson\", driver=\"GeoJSON\")"
   ]
  },
  {
   "cell_type": "code",
   "execution_count": 68,
   "metadata": {},
   "outputs": [],
   "source": [
    "import fiona\n",
    "from shapely.geometry import shape"
   ]
  },
  {
   "cell_type": "code",
   "execution_count": 90,
   "metadata": {},
   "outputs": [
    {
     "ename": "ValueError",
     "evalue": "year is out of range",
     "output_type": "error",
     "traceback": [
      "\u001b[0;31m---------------------------------------------------------------------------\u001b[0m",
      "\u001b[0;31mValueError\u001b[0m                                Traceback (most recent call last)",
      "\u001b[0;32m<ipython-input-90-6debf5811c10>\u001b[0m in \u001b[0;36m<module>\u001b[0;34m()\u001b[0m\n\u001b[1;32m      1\u001b[0m \u001b[0mshp_collection\u001b[0m \u001b[0;34m=\u001b[0m \u001b[0mfiona\u001b[0m\u001b[0;34m.\u001b[0m\u001b[0mopen\u001b[0m\u001b[0;34m(\u001b[0m\u001b[0mgt_path\u001b[0m\u001b[0;34m)\u001b[0m\u001b[0;34m\u001b[0m\u001b[0m\n\u001b[1;32m      2\u001b[0m \u001b[0;31m# shp_geom = []\u001b[0m\u001b[0;34m\u001b[0m\u001b[0;34m\u001b[0m\u001b[0m\n\u001b[0;32m----> 3\u001b[0;31m \u001b[0;32mfor\u001b[0m \u001b[0mi\u001b[0m \u001b[0;32min\u001b[0m \u001b[0mshp_collection\u001b[0m\u001b[0;34m:\u001b[0m\u001b[0;34m\u001b[0m\u001b[0m\n\u001b[0m\u001b[1;32m      4\u001b[0m     \u001b[0mi\u001b[0m\u001b[0;34m[\u001b[0m\u001b[0;34m'geometry'\u001b[0m\u001b[0;34m]\u001b[0m\u001b[0;34m\u001b[0m\u001b[0m\n\u001b[1;32m      5\u001b[0m \u001b[0;31m#     shp_geom.append(crds)\u001b[0m\u001b[0;34m\u001b[0m\u001b[0;34m\u001b[0m\u001b[0m\n",
      "\u001b[0;32mfiona/ogrext.pyx\u001b[0m in \u001b[0;36mfiona.ogrext.Iterator.__next__\u001b[0;34m()\u001b[0m\n",
      "\u001b[0;32mfiona/ogrext.pyx\u001b[0m in \u001b[0;36mfiona.ogrext.FeatureBuilder.build\u001b[0;34m()\u001b[0m\n",
      "\u001b[0;31mValueError\u001b[0m: year is out of range"
     ]
    }
   ],
   "source": [
    "shp_collection = fiona.open(gt_path)\n",
    "# shp_geom = []\n",
    "for i in shp_collection:\n",
    "    i['geometry']\n",
    "#     shp_geom.append(crds)"
   ]
  },
  {
   "cell_type": "code",
   "execution_count": 92,
   "metadata": {},
   "outputs": [],
   "source": [
    "gt_path = \"/home/user/projects/clearcut_detection/data/s2_data/markup/clearcuts_backup_2016-08-30/clearcuts_backup_2016-08-30.shp\"\n",
    "gt_poly = gpd.read_file(gt_path)"
   ]
  },
  {
   "cell_type": "code",
   "execution_count": 128,
   "metadata": {},
   "outputs": [],
   "source": [
    "def F1_score(pred_polys, true_polys, threshold):\n",
    "    \"\"\"\n",
    "    Calculates F1 score using shapely polygons.\n",
    "\n",
    "    :param pred_polys: Predicted polygons.\n",
    "    :param true_polys: Ground truth polygons.\n",
    "    :param threshold: IoU threshold.\n",
    "    :return: F1 score, recall, precision.\n",
    "    \"\"\"\n",
    "    preds = [pred.buffer(0) for pred in pred_polys]\n",
    "    truths = [true.buffer(0) for true in true_polys]\n",
    "\n",
    "    if (len(preds) == 0) and (len(truths) == 0):\n",
    "        precision = 1\n",
    "        recall = 1\n",
    "        F1 = 1\n",
    "        return F1, recall, precision\n",
    "\n",
    "    true_positives = 0\n",
    "    false_positives = 0\n",
    "    false_negatives = 0\n",
    "\n",
    "    for truth in truths:\n",
    "        ious = []\n",
    "        for pred in preds:\n",
    "            if not truth.intersects(pred):\n",
    "                ious.append(0)\n",
    "            else:\n",
    "                intersection = truth.intersection(pred).area\n",
    "                union = truth.union(pred).area\n",
    "                ious.append(intersection / union)\n",
    "\n",
    "        if len(ious) == 0:\n",
    "            false_negatives += 1\n",
    "            continue\n",
    "\n",
    "        best = max(ious)\n",
    "        if best >= threshold:\n",
    "            preds.pop(ious.index(best))\n",
    "            true_positives += 1\n",
    "        else:\n",
    "            false_negatives += 1\n",
    "\n",
    "    false_positives = len(preds)\n",
    "\n",
    "    try:\n",
    "        precision = true_positives / (true_positives + false_positives)\n",
    "    except:\n",
    "        print(\"Precision value undefined, setting to zero\")\n",
    "        precision = 0\n",
    "\n",
    "    try:\n",
    "        recall = true_positives / (true_positives + false_negatives)\n",
    "    except:\n",
    "        print(\"Recall value undefined, setting to zero\")\n",
    "        recall = 0\n",
    "\n",
    "    try:\n",
    "        F1 = (\n",
    "            2 * (precision * recall) / (precision + recall)\n",
    "        )\n",
    "    except:\n",
    "        print(\"F1 value undefined, setting to zero\")\n",
    "        F1 = 0\n",
    "    return F1, recall, precision\n"
   ]
  },
  {
   "cell_type": "code",
   "execution_count": 138,
   "metadata": {},
   "outputs": [],
   "source": [
    "areas = [_poly.area for _poly in gt_for_f1['geometry'].values]"
   ]
  },
  {
   "cell_type": "code",
   "execution_count": 149,
   "metadata": {},
   "outputs": [
    {
     "data": {
      "text/plain": [
       "610982.4873263139"
      ]
     },
     "execution_count": 149,
     "metadata": {},
     "output_type": "execute_result"
    }
   ],
   "source": [
    "np.max(areas)"
   ]
  },
  {
   "cell_type": "code",
   "execution_count": 162,
   "metadata": {},
   "outputs": [],
   "source": [
    "pred_areas = [_poly.area for _poly in pred_for_f1['geometry'].values]"
   ]
  },
  {
   "cell_type": "code",
   "execution_count": 176,
   "metadata": {},
   "outputs": [
    {
     "data": {
      "text/plain": [
       "789500.0"
      ]
     },
     "execution_count": 176,
     "metadata": {},
     "output_type": "execute_result"
    }
   ],
   "source": [
    "np.max(pred_areas)"
   ]
  },
  {
   "cell_type": "code",
   "execution_count": 157,
   "metadata": {},
   "outputs": [
    {
     "data": {
      "text/plain": [
       "721"
      ]
     },
     "execution_count": 157,
     "metadata": {},
     "output_type": "execute_result"
    }
   ],
   "source": [
    "len(pred_filtered)"
   ]
  },
  {
   "cell_type": "code",
   "execution_count": 158,
   "metadata": {},
   "outputs": [
    {
     "data": {
      "text/plain": [
       "970"
      ]
     },
     "execution_count": 158,
     "metadata": {},
     "output_type": "execute_result"
    }
   ],
   "source": [
    "len(gt_for_f1['geometry'].values)"
   ]
  },
  {
   "cell_type": "code",
   "execution_count": 164,
   "metadata": {},
   "outputs": [],
   "source": [
    "pred_filtered = pred_for_f1['geometry'].values[np.array(pred_areas) > 2950]"
   ]
  },
  {
   "cell_type": "code",
   "execution_count": 173,
   "metadata": {},
   "outputs": [],
   "source": [
    "metrics = F1_score(pred_filtered, gt_for_f1['geometry'].values, 0.5)\n",
    "F1 = metrics[0]"
   ]
  },
  {
   "cell_type": "code",
   "execution_count": 175,
   "metadata": {},
   "outputs": [
    {
     "data": {
      "text/plain": [
       "(0.4665482534043813, 0.4061855670103093, 0.5479833101529903)"
      ]
     },
     "execution_count": 175,
     "metadata": {},
     "output_type": "execute_result"
    }
   ],
   "source": [
    "metrics"
   ]
  }
 ],
 "metadata": {
  "kernelspec": {
   "display_name": "Python 3",
   "language": "python",
   "name": "python3"
  },
  "language_info": {
   "codemirror_mode": {
    "name": "ipython",
    "version": 3
   },
   "file_extension": ".py",
   "mimetype": "text/x-python",
   "name": "python",
   "nbconvert_exporter": "python",
   "pygments_lexer": "ipython3",
   "version": "3.5.2"
  }
 },
 "nbformat": 4,
 "nbformat_minor": 2
}
