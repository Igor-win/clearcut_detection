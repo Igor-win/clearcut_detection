{
 "cells": [
  {
   "cell_type": "code",
   "execution_count": null,
   "metadata": {},
   "outputs": [],
   "source": [
    "import pandas as pd\n",
    "import numpy as np\n",
    "import matplotlib.pyplot as plt\n",
    "from shutil import copyfile\n",
    "from PIL import Image\n",
    "# import os\n",
    "import tensorflow as tf\n",
    "%matplotlib inline\n",
    "import matplotlib.pyplot as plt\n",
    "import matplotlib.gridspec as gridspec\n",
    "import os\n",
    "import skimage.io as io\n",
    "from ipywidgets import interact, Text, RadioButtons\n",
    "import ipywidgets as widgets\n",
    "from IPython.display import clear_output\n",
    "# %matplotlib inline"
   ]
  },
  {
   "cell_type": "code",
   "execution_count": null,
   "metadata": {},
   "outputs": [],
   "source": [
    "def read_from_tf_records(filenames, mode=None):\n",
    "    \"\"\"\n",
    "    Reads images, labels from tfrecords files.\n",
    "    :param mode: set to 'pred', if there are predicted labels in tfrecords file\n",
    "    :param filenames: list of tfrecord file names\n",
    "    :return: lists of\n",
    "    \"\"\"\n",
    "    img_heights, img_widths, dice_scores, groves, imgs, masks, results, img_names = [], [], [], [], [], [], [], []\n",
    "#     if type(filenames) == str:\n",
    "#         filenames = list(filenames)\n",
    "\n",
    "    # for filename in filenames:\n",
    "        # print(filename)\n",
    "    assert os.path.isfile(filenames)\n",
    "    for serialized_example in tf.python_io.tf_record_iterator(filenames):\n",
    "        example = tf.train.Example()\n",
    "        example.ParseFromString(serialized_example)\n",
    "        # ---\n",
    "        img_raw = example.features.feature['img_raw'].bytes_list.value\n",
    "        msk_raw = example.features.feature['mask_raw'].bytes_list.value\n",
    "        rst_raw = example.features.feature['result_raw'].bytes_list.value\n",
    "        img_height = example.features.feature['img_height'].int64_list.value\n",
    "        img_width = example.features.feature['img_width'].int64_list.value\n",
    "        image_name = example.features.feature['img_name'].bytes_list.value\n",
    "        grove = example.features.feature['grove'].bytes_list.value\n",
    "        dice_score = example.features.feature['dice_score'].float_list.value\n",
    "        # ----\n",
    "        # print(img_height, img_width)\n",
    "        # print(img_raw)\n",
    "        image = Image.frombytes('RGB', (img_width[0], img_height[0]), img_raw[0])\n",
    "        imgs.append(np.array(image))\n",
    "        # print(msk_raw)\n",
    "        mask = Image.frombytes('L', (img_width[0], img_height[0]), msk_raw[0])\n",
    "        masks.append(np.array(mask))\n",
    "        result = Image.frombytes('L', (img_width[0], img_height[0]), rst_raw[0])\n",
    "        results.append(np.array(result))\n",
    "        # ----\n",
    "        img_heights.append(img_height[0])\n",
    "        img_widths.append(img_width[0])\n",
    "        dice_scores.append(dice_score[0])\n",
    "        groves.append(grove[0])\n",
    "        img_names.append(image_name[0])\n",
    "#             if mode == 'pred':\n",
    "#                 labels_pred.append(example.features.feature['label_pred'].int64_list.value)\n",
    "#                 confidence.append(example.features.feature['confidence'].float_list.value)\n",
    "\n",
    "    return img_heights, img_widths, np.array(dice_scores), np.array(groves), np.array(imgs), np.array(masks), np.array(results), np.array(img_names)"
   ]
  },
  {
   "cell_type": "code",
   "execution_count": null,
   "metadata": {
    "scrolled": false
   },
   "outputs": [],
   "source": [
    "\n",
    "def visualize_tfr(image, mask, result, dices, names):\n",
    "    grid_width=2\n",
    "    grid_height=6\n",
    "\n",
    "    fig = plt.figure(figsize=(20, 22))\n",
    "    outer = gridspec.GridSpec(grid_height, grid_width, wspace=0.1, hspace=0.1)\n",
    "\n",
    "    for i in range(grid_height * grid_width):\n",
    "        inner = gridspec.GridSpecFromSubplotSpec(1, 3,\n",
    "                        subplot_spec=outer[i], wspace=0.1, hspace=0.1)\n",
    "#         if len(image[i]) < grid_height * grid_width:\n",
    "#             np.zeros((grid_height * grid_width))\n",
    "        try:\n",
    "            for j, (im, cls, label) in enumerate(zip([image[i], mask[i], result[i]],\n",
    "                                                     ['Image', 'Mask', 'Result'],\n",
    "                                                     [dices[i], names[i], names[i]])):\n",
    "                ax = plt.Subplot(fig, inner[j])\n",
    "                ax.set_title(cls)\n",
    "                if cls == 'Image':\n",
    "                    ax.imshow(im)\n",
    "\n",
    "                elif cls == 'Mask':\n",
    "                    ax.imshow(im, cmap=plt.cm.gray, interpolation='nearest')\n",
    "                    ax.set_xlabel(str(names[i]) + '_' + str(round(dices[i], 4)))\n",
    "                else:\n",
    "                    ax.imshow(im, cmap=plt.cm.gray, interpolation='nearest')\n",
    "\n",
    "                ax.set_xticks([])\n",
    "                ax.set_yticks([])\n",
    "                fig.add_subplot(ax)\n",
    "        except:\n",
    "            continue\n",
    "\n",
    "    # fig.show()"
   ]
  },
  {
   "cell_type": "code",
   "execution_count": null,
   "metadata": {},
   "outputs": [],
   "source": [
    "def visualize_tf_records_inter(tfr, min_thresh=0, max_thresh=1, num_samples=18):\n",
    "    img_heights, img_widths, dice_scores, groves, imgs, masks, results, img_names = read_from_tf_records(tfr)\n",
    "    mean_dice_by_groves = []\n",
    "    for gr in set(groves):\n",
    "        mean_dice_by_groves.append(np.mean(dice_scores[np.where(groves == gr)[0]]))\n",
    "        # print(mean_dice_by_groves)\n",
    "    # opt = set(b'all').update(set(pgroves))\n",
    "    opt = set(groves)\n",
    "    opt.add(b'all')\n",
    "    # rint(opt)\n",
    "    rbtn = RadioButtons(options=opt)\n",
    "    display(rbtn)\n",
    "    def on_value_change(change):\n",
    "        clear_output(True)\n",
    "        print('mean_dice')\n",
    "        for gr, dc in zip(set(groves), mean_dice_by_groves):\n",
    "            print(gr, ':', dc)\n",
    "        display(rbtn)\n",
    "        step = num_samples\n",
    "        if change['new'] == b'all':\n",
    "            indxs = np.where((dice_scores > min_thresh) & (dice_scores < max_thresh))[0]\n",
    "            parts = int(np.ceil(len(indxs)/step))\n",
    "        else:\n",
    "            indxs = np.where((dice_scores > min_thresh) & (dice_scores < max_thresh) & ((groves == change['new'])))[0]\n",
    "            parts = int(np.ceil(len(indxs)/step))\n",
    "        # print(parts)\n",
    "        n = len(indxs)\n",
    "        print('Number of images: {}'.format(n))\n",
    "        if n < 1:\n",
    "            print('Nothing to display')\n",
    "            return None\n",
    "        def view_image(i):\n",
    "            start = i*step\n",
    "            finish = step + i*step\n",
    "            ind = indxs[start:finish]\n",
    "            # grid_height = 6# int(np.ceil(len(ind)/3))\n",
    "            visualize_tfr(imgs[ind], masks[ind], results[ind], dice_scores[ind], img_names[ind])\n",
    "            \n",
    "        interact(view_image, i=(0,parts-1), value=0)\n",
    "    rbtn.observe(on_value_change, names='value')"
   ]
  },
  {
   "cell_type": "code",
   "execution_count": null,
   "metadata": {
    "scrolled": false
   },
   "outputs": [],
   "source": [
    "visualize_tf_records_inter('/home/user/projects/geo/polygonization-nn/data/mixed_nrg_127.tfrecords',\n",
    "                           min_thresh=0.0,\n",
    "                           max_thresh=0.5,\n",
    "                           num_samples = 8)"
   ]
  },
  {
   "cell_type": "code",
   "execution_count": null,
   "metadata": {
    "scrolled": false
   },
   "outputs": [],
   "source": [
    "visualize_tf_records_inter('/mnt/storage_4tb/ymi/geo_data/test_instance_plus/semantic/two_heads.tfrecords',\n",
    "                           min_thresh=0.0,\n",
    "                           max_thresh=1,\n",
    "                           num_samples = 8)"
   ]
  },
  {
   "cell_type": "code",
   "execution_count": null,
   "metadata": {},
   "outputs": [],
   "source": [
    "visualize_tf_records_inter('/mnt/storage_4tb/ymi/geo_data/test_instance_plus/semantic/one_head.tfrecords',\n",
    "                           min_thresh=0.0,\n",
    "                           max_thresh=1,\n",
    "                           num_samples = 8)"
   ]
  },
  {
   "cell_type": "code",
   "execution_count": null,
   "metadata": {},
   "outputs": [],
   "source": [
    "visualize_tf_records_inter('/home/user/projects/geo/dl/unet/data/test_weights/df_tr_nrg_train_weighted_27_09.tfrecords',\n",
    "                           min_thresh=0.7,\n",
    "                           max_thresh=0.8,\n",
    "                           num_samples = 8)"
   ]
  },
  {
   "cell_type": "code",
   "execution_count": null,
   "metadata": {},
   "outputs": [],
   "source": []
  }
 ],
 "metadata": {
  "kernelspec": {
   "display_name": "Python 3",
   "language": "python",
   "name": "python3"
  },
  "language_info": {
   "codemirror_mode": {
    "name": "ipython",
    "version": 3
   },
   "file_extension": ".py",
   "mimetype": "text/x-python",
   "name": "python",
   "nbconvert_exporter": "python",
   "pygments_lexer": "ipython3",
   "version": "3.5.2"
  }
 },
 "nbformat": 4,
 "nbformat_minor": 2
}
