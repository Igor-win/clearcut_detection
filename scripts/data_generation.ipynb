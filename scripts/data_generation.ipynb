{
 "cells": [
  {
   "cell_type": "code",
   "execution_count": 7,
   "metadata": {},
   "outputs": [],
   "source": [
    "import os\n",
    "import imageio\n",
    "import argparse\n",
    "import numpy as np\n",
    "import pandas as pd\n",
    "import geopandas as gp\n",
    "from sklearn.model_selection import StratifiedShuffleSplit"
   ]
  },
  {
   "cell_type": "code",
   "execution_count": 170,
   "metadata": {},
   "outputs": [],
   "source": [
    "DATA_PATH = '../data'\n",
    "IMAGES_FOLDER = 'images'\n",
    "MASKS_FOLDER = 'masks'\n",
    "INSTANCES_FOLDER = 'instance_masks'\n",
    "IMAGE_TYPE = 'tiff'\n",
    "MASK_TYPE = 'png'\n",
    "INSTANCE_TYPE = 'geojson'\n",
    "CHANNELS = ['rgb', 'ndvi', 'ndvi_color', 'b2']"
   ]
  },
  {
   "cell_type": "code",
   "execution_count": 185,
   "metadata": {},
   "outputs": [],
   "source": [
    "def get_data_info(data_path=DATA_PATH):  \n",
    "    dataset = get_folders(data_path)[0]\n",
    "    _, _, insatnces_path = get_data_pathes(data_path)\n",
    "    instances = get_folders(insatnces_path)\n",
    "    \n",
    "    cols = ['date', 'name', 'ix', 'iy']\n",
    "    data_info = pd.DataFrame(columns=cols)\n",
    "    for instance in instances:\n",
    "        name_parts = split_fullname(instance)\n",
    "        data_info = data_info.append(\n",
    "            pd.DataFrame({\n",
    "                'date': name_parts[0],\n",
    "                'name': name_parts[1],\n",
    "                'ix': name_parts[3],\n",
    "                'iy': name_parts[4]\n",
    "            }, index=[0]),\n",
    "            sort=True, ignore_index=True\n",
    "        )\n",
    "        \n",
    "    return data_info\n",
    "\n",
    "\n",
    "def get_data_pathes(data_path, \n",
    "                    images_folder=IMAGES_FOLDER,\n",
    "                    masks_folder=MASKS_FOLDER,\n",
    "                    instances_folder=INSTANCES_FOLDER):\n",
    "    \n",
    "    dataset = get_folders(data_path)[0]\n",
    "    \n",
    "    images_path = os.path.join(data_path, dataset, images_folder)\n",
    "    masks_path = os.path.join(data_path, dataset, masks_folder)\n",
    "    insatnces_path = os.path.join(data_path, dataset, instances_folder)\n",
    "    \n",
    "    return images_path, masks_path, insatnces_path\n",
    "    \n",
    "    \n",
    "def get_folders(path):\n",
    "    return list(os.walk(path))[0][1]\n",
    "\n",
    "\n",
    "def split_fullname(fullname):\n",
    "    return fullname.split('_')\n",
    "\n",
    "\n",
    "def get_fullname(*name_parts):\n",
    "    return '_'.join(tuple(map(str, name_parts)))\n",
    "\n",
    "\n",
    "def get_filepath(*path_parts, file_type):\n",
    "    return '{}.{}'.format(join_pathes(*path_parts), file_type)\n",
    "\n",
    "\n",
    "def join_pathes(*pathes):\n",
    "    return os.path.join(*pathes)\n",
    "\n",
    "\n",
    "def stratify(data_info, test_size=0.2, random_state=42,\n",
    "             channel='rgb', instance_type=INSTANCE_TYPE):\n",
    "    \n",
    "    X, _ = get_data(data_info)\n",
    "    areas = []\n",
    "    for _, row in data_info.iterrows():\n",
    "        instance_name = get_fullname(row['date'], row['name'], channel, row['ix'], row['iy'])\n",
    "        instance_path = get_filepath(\n",
    "            data_path,\n",
    "            get_fullname(row['date'], row['name'], channel),\n",
    "            instances_folder,\n",
    "            instance_name,\n",
    "            instance_name,\n",
    "            file_type=instance_type\n",
    "        )\n",
    "        areas.append(get_area(instance_path))\n",
    "                     \n",
    "    labels = get_labels(np.array(areas))\n",
    "\n",
    "    sss = StratifiedShuffleSplit(\n",
    "        n_splits=1,\n",
    "        test_size=test_size,\n",
    "        random_state=random_state\n",
    "    )\n",
    "\n",
    "    return sss.split(X, labels)\n",
    "\n",
    "\n",
    "def get_data(data_info, channel='rgb',\n",
    "             data_path=DATA_PATH,\n",
    "             image_folder=IMAGES_FOLDER,\n",
    "             mask_folder=MASKS_FOLDER,\n",
    "             image_type=IMAGE_TYPE,\n",
    "             mask_type=MASK_TYPE):\n",
    "    \n",
    "    x = []\n",
    "    y = []\n",
    "    for _, row in data_info.iterrows():\n",
    "        dataset = get_fullname(row['date'], row['name'], channel)\n",
    "        filename = get_fullname(row['date'], row['name'], channel, row['ix'], row['iy'])\n",
    "        \n",
    "        image_path = get_filepath(\n",
    "            data_path,\n",
    "            dataset,\n",
    "            image_folder,\n",
    "            filename,\n",
    "            file_type=image_type\n",
    "        )\n",
    "        mask_path = get_filepath(\n",
    "            data_path,\n",
    "            dataset,\n",
    "            mask_folder,\n",
    "            filename,\n",
    "            file_type=mask_type\n",
    "        )\n",
    "        \n",
    "        x.append(read_tensor(image_path))\n",
    "        y.append(read_tensor(mask_path))\n",
    "        \n",
    "    x = np.array(x)\n",
    "    y = np.array(y)\n",
    "    y = y.reshape([*y.shape, 1])\n",
    "\n",
    "    return x, y\n",
    "\n",
    "\n",
    "def read_tensor(filepath):\n",
    "    return imageio.imread(filepath)\n",
    "\n",
    "\n",
    "def get_area(instance_path):\n",
    "    return (gp.read_file(instance_path)['geometry'].area / 100).median()\n",
    "\n",
    "\n",
    "def get_labels(distr):\n",
    "    res = np.full(distr.shape, 3)\n",
    "    res[distr < np.quantile(distr, 0.75)] = 2\n",
    "    res[distr < np.quantile(distr, 0.5)] = 1\n",
    "    res[distr < np.quantile(distr, 0.25)] = 0\n",
    "    return res"
   ]
  },
  {
   "cell_type": "code",
   "execution_count": 186,
   "metadata": {},
   "outputs": [
    {
     "data": {
      "text/html": [
       "<div>\n",
       "<style scoped>\n",
       "    .dataframe tbody tr th:only-of-type {\n",
       "        vertical-align: middle;\n",
       "    }\n",
       "\n",
       "    .dataframe tbody tr th {\n",
       "        vertical-align: top;\n",
       "    }\n",
       "\n",
       "    .dataframe thead th {\n",
       "        text-align: right;\n",
       "    }\n",
       "</style>\n",
       "<table border=\"1\" class=\"dataframe\">\n",
       "  <thead>\n",
       "    <tr style=\"text-align: right;\">\n",
       "      <th></th>\n",
       "      <th>date</th>\n",
       "      <th>ix</th>\n",
       "      <th>iy</th>\n",
       "      <th>name</th>\n",
       "    </tr>\n",
       "  </thead>\n",
       "  <tbody>\n",
       "    <tr>\n",
       "      <th>0</th>\n",
       "      <td>20160103</td>\n",
       "      <td>20</td>\n",
       "      <td>20</td>\n",
       "      <td>66979721-be1b-4451-84e0-4a573236defd</td>\n",
       "    </tr>\n",
       "    <tr>\n",
       "      <th>1</th>\n",
       "      <td>20160103</td>\n",
       "      <td>26</td>\n",
       "      <td>13</td>\n",
       "      <td>66979721-be1b-4451-84e0-4a573236defd</td>\n",
       "    </tr>\n",
       "    <tr>\n",
       "      <th>2</th>\n",
       "      <td>20160103</td>\n",
       "      <td>12</td>\n",
       "      <td>22</td>\n",
       "      <td>66979721-be1b-4451-84e0-4a573236defd</td>\n",
       "    </tr>\n",
       "    <tr>\n",
       "      <th>3</th>\n",
       "      <td>20160103</td>\n",
       "      <td>16</td>\n",
       "      <td>5</td>\n",
       "      <td>66979721-be1b-4451-84e0-4a573236defd</td>\n",
       "    </tr>\n",
       "    <tr>\n",
       "      <th>4</th>\n",
       "      <td>20160103</td>\n",
       "      <td>30</td>\n",
       "      <td>16</td>\n",
       "      <td>66979721-be1b-4451-84e0-4a573236defd</td>\n",
       "    </tr>\n",
       "  </tbody>\n",
       "</table>\n",
       "</div>"
      ],
      "text/plain": [
       "       date  ix  iy                                  name\n",
       "0  20160103  20  20  66979721-be1b-4451-84e0-4a573236defd\n",
       "1  20160103  26  13  66979721-be1b-4451-84e0-4a573236defd\n",
       "2  20160103  12  22  66979721-be1b-4451-84e0-4a573236defd\n",
       "3  20160103  16   5  66979721-be1b-4451-84e0-4a573236defd\n",
       "4  20160103  30  16  66979721-be1b-4451-84e0-4a573236defd"
      ]
     },
     "execution_count": 186,
     "metadata": {},
     "output_type": "execute_result"
    }
   ],
   "source": [
    "data_info = get_data_info()\n",
    "data_info.head()"
   ]
  },
  {
   "cell_type": "code",
   "execution_count": 187,
   "metadata": {},
   "outputs": [
    {
     "data": {
      "text/plain": [
       "(245, 224, 224, 3)"
      ]
     },
     "execution_count": 187,
     "metadata": {},
     "output_type": "execute_result"
    }
   ],
   "source": [
    "x, y = get_data(data_info)\n",
    "x.shape"
   ]
  },
  {
   "cell_type": "code",
   "execution_count": 188,
   "metadata": {},
   "outputs": [
    {
     "name": "stdout",
     "output_type": "stream",
     "text": [
      "[571.0459217901257, 30.108072562493362, 291.68015376469407, 271.8175202065232, 928.4628718328879, 269.41835292902397, 352.13214357329264, 174.76759558231566, 255.00304770915005, 55.63056148236994, 329.898966943304, 272.6688394137549, 182.99908878319653, 496.29280122490263, 252.75213571793046, 172.1105268442197, 162.76928611841475, 143.46291070775004, 255.72082779391965, 684.3760283516647, 113.50763241952889, 190.3767675822798, 28.012210000521517, 196.4297116522409, 30.358243547493046, 17.782047963230347, 141.1894143663663, 163.84738889172093, 117.78763803238165, 149.56919527189538, 1004.8441099843471, 771.5376922713334, 99.25886307180834, 283.5785990136587, 275.778776508931, 124.61176166492427, 148.0672807642901, 85.40664020178008, 265.3454790239226, 344.64852395519233, 96.27140971959923, 592.6559290670873, 374.76237064664895, 234.5854510522106, 110.39663753673294, 426.60717256091596, 357.7917263088333, 75.44156536364537, 244.97269154777413, 1681.503008996537, 1183.8701721768257, 397.8500918647028, 110.38216797341212, 322.132244123871, 535.5605253409486, 40.36003994647867, 73.41990738232028, 107.73725778406988, 463.28813613759723, 166.45762756101428, 183.76036955648158, 175.70501272988216, 249.64935829037674, 591.4406573475792, 422.9552993865043, 485.1107044502993, 144.31998407120412, 353.6206478471489, 484.9072366393335, 509.2105432410356, 1611.6119074159203, 304.568117016266, 259.90081314406103, 243.0988804842156, 150.50374747667308, 20.119822380378345, 763.0084467095235, 18.836889056277474, 183.08838314451998, 191.13897035387606, 354.9035633458287, 172.81454488899527, 295.02551948054645, 608.0728131854665, 330.09983999242655, 318.12797957706204, 193.84878513085437, 565.5742799584386, 158.14329637758283, 175.89475383327678, 276.6812409102273, 112.79932085691838, 592.2011316718614, 205.56374506550753, 208.29316408632567, 294.13605960615854, 94.71020317176561, 506.88023432106223, 255.25491634128966, 212.51854501975532, 16.202641225956413, 177.6705547661872, 181.8075143295791, 234.26945616354274, 502.2906232466222, 236.68253198924816, 220.99009433603456, 323.47071175816325, 93.58449161683359, 1523.3802109170801, 302.37663971549233, 148.22518559111, 768.7073892164245, 124.84178023217702, 323.24776275871466, 252.4224077835683, 249.81200403938038, 35.07643005774315, 425.14196173057036, 305.9603679776312, 194.1733274601716, 106.2542419808079, 144.9419681994254, 351.9898274370331, 205.27661313301422, 732.0907136767873, 292.88806118845855, 138.72570987721616, 469.5094043995658, 70.46184311601377, 330.7943200404615, 244.4563894674761, 221.93374993850645, 152.282414071277, 1683.4875657076086, 225.25821668601472, 50.570152197695926, 197.6631204043227, 680.8322501805347, 258.9395867822421, 125.9456888782066, 161.34038771130813, 1658.7275522225145, 197.5569568461434, 181.11615323373746, 234.8515725843299, 334.71190495391, 595.6881822719288, 163.87833851651376, 157.16538362472545, 579.9164679125624, 203.61869238523775, 380.45416387779267, 261.3851826512111, 315.31188325681035, 467.3163260559734, 275.55086518986536, 321.6047345268032, 256.6734209540044, 866.7279446750623, 1538.4877412751405, 1255.7744242078534, 336.4858386984329, 271.8222433983706, 197.41207421294362, 331.67365716451417, 257.5117708683883, 360.39521849870704, 216.71984192540071, 94.43157778961333, 129.59358791038784, 603.0273846784228, 1510.929102961985, 214.9057671832973, 2498.141756858224, 128.98220388006666, 195.98764884059324, 225.92446121483133, 531.7841088663363, 174.408087196942, 332.6992150669876, 304.7286002398644, 260.33298607545265, 1506.5887339040817, 384.8286474899611, 504.35299633499324, 979.5826762414638, 128.64157909290532, 213.8648393012267, 166.79723624333832, 124.62927824470052, 441.29799676085577, 757.2056495371496, 650.8027514081971, 319.78188229023795, 247.37195541937854, 299.7751900785479, 123.04088369601554, 238.64626457540766, 304.6398563763696, 145.64172947517235, 101.97882932887343, 198.0474577665925, 425.30473169113213, 154.8675057793805, 589.9051122096453, 2036.0264082822864, 94.81433023797872, 1.7550034362899682, 243.99831601032585, 575.6222626932818, 98.15419579565682, 145.43609153324323, 375.80153349327054, 299.88973106163746, 194.1557639000277, 149.3861814965626, 333.9865829021536, 135.18418354323262, 399.3202819076713, 26.49378077618364, 390.3649865909598, 339.0689134221034, 285.6885121326327, 478.8740800363285, 258.2867533827349, 165.8237219063113, 294.6189965433695, 165.8709385186664, 292.3697751552839, 1315.2666925052115, 42.66009385460122, 305.68628551532186, 2.4838139085671647, 1713.9871502261685, 144.77078556820163, 120.41385177381959, 1085.134950038456, 265.62668904551, 55.0318516098972, 75.30475633242254, 238.39555179270963, 340.6804026410719, 173.38346338307375, 331.1287093290934]\n"
     ]
    },
    {
     "data": {
      "text/plain": [
       "<generator object BaseShuffleSplit.split at 0x7f645c9d1f68>"
      ]
     },
     "execution_count": 188,
     "metadata": {},
     "output_type": "execute_result"
    }
   ],
   "source": [
    "stratify(data_info)"
   ]
  },
  {
   "cell_type": "code",
   "execution_count": null,
   "metadata": {},
   "outputs": [],
   "source": []
  },
  {
   "cell_type": "code",
   "execution_count": null,
   "metadata": {},
   "outputs": [],
   "source": []
  },
  {
   "cell_type": "code",
   "execution_count": null,
   "metadata": {},
   "outputs": [],
   "source": []
  }
 ],
 "metadata": {
  "kernelspec": {
   "display_name": "Python 3",
   "language": "python",
   "name": "python3"
  },
  "language_info": {
   "codemirror_mode": {
    "name": "ipython",
    "version": 3
   },
   "file_extension": ".py",
   "mimetype": "text/x-python",
   "name": "python",
   "nbconvert_exporter": "python",
   "pygments_lexer": "ipython3",
   "version": "3.6.8"
  }
 },
 "nbformat": 4,
 "nbformat_minor": 2
}
