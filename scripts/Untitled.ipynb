{
 "cells": [
  {
   "cell_type": "code",
   "execution_count": 63,
   "metadata": {},
   "outputs": [],
   "source": [
    "import os\n",
    "import numpy as np\n",
    "import cv2 as cv\n",
    "import pandas as pd\n",
    "import torch\n",
    "import torchvision.transforms as transforms\n",
    "from PIL import Image\n",
    "from catalyst.dl.utils import UtilsFactory\n",
    "from tqdm import tqdm\n",
    "\n",
    "import argparse\n",
    "\n",
    "from pytorch.models.utils import get_model"
   ]
  },
  {
   "cell_type": "code",
   "execution_count": 2,
   "metadata": {},
   "outputs": [],
   "source": [
    "test_df_path = '../data/test_df.csv'\n",
    "dataset_path = '../data'\n",
    "network = 'linknet'\n",
    "model_weights_path = '../data/best.pth'"
   ]
  },
  {
   "cell_type": "code",
   "execution_count": 3,
   "metadata": {},
   "outputs": [],
   "source": [
    "def get_filenames(path):\n",
    "    return tuple(os.walk(path))[0][2]\n",
    "\n",
    "\n",
    "def get_image(image_path, filename):\n",
    "    image_path = os.path.join(image_path, filename)\n",
    "    img = Image.open(image_path)\n",
    "\n",
    "    return transforms.ToTensor()(img)\n",
    "\n",
    "\n",
    "def load_model(network, model_weights_path):\n",
    "    model = get_model(network)\n",
    "    checkpoint = torch.load(model_weights_path, map_location='cpu')\n",
    "    model.load_state_dict(checkpoint['model_state_dict'])\n",
    "    \n",
    "    return model.eval()\n",
    "\n",
    "\n",
    "def predict(model, image_tensor, input_shape=(1, 3, 224, 224)):\n",
    "    prediction = model(image_tensor.view(*input_shape))\n",
    "    return torch \\\n",
    "        .sigmoid(prediction.view(*input_shape[2:])) \\\n",
    "        .detach().numpy()\n",
    "\n",
    "\n",
    "def get_predictions(network, model_weights_path, images_path):\n",
    "    model = load_model(network, model_weights_path)\n",
    "    predictions = []\n",
    "    for filename in tqdm(get_filenames(images_path)):\n",
    "        predictions.append(\n",
    "            predict(model, get_image(images_path, filename)))\n",
    "        \n",
    "    return predictions\n",
    "\n",
    "\n",
    "def save_predictions(predictions, filenames, save_path):\n",
    "    predictions_path = os.path.join(save_path, 'predictions')\n",
    "    \n",
    "    if not os.path.exists(predictions_path):\n",
    "        os.mkdir(predictions_path)\n",
    "        print('Pediction directory created.')\n",
    "        \n",
    "    for pred, filename in zip(predictions, filenames):\n",
    "        cv.imwrite(\n",
    "            os.path.join(\n",
    "                predictions_path,\n",
    "                filename + '.png'),\n",
    "            pred * 255)\n",
    "    \n",
    "    print('Predictions saved.')\n",
    "    return predictions_path"
   ]
  },
  {
   "cell_type": "code",
   "execution_count": 4,
   "metadata": {},
   "outputs": [],
   "source": [
    "from preprocessing import image_division"
   ]
  },
  {
   "cell_type": "code",
   "execution_count": 5,
   "metadata": {},
   "outputs": [],
   "source": [
    "tif_path = '../../input/20160103_66979721-be1b-4451-84e0-4a573236defd_rgb.tif'\n",
    "pieces_path = '../data/pieces'\n",
    "w, h = 224, 224"
   ]
  },
  {
   "cell_type": "code",
   "execution_count": null,
   "metadata": {},
   "outputs": [],
   "source": [
    "#image_division.divide_into_pieces(tif_path, pieces_path, w, h)"
   ]
  },
  {
   "cell_type": "code",
   "execution_count": 6,
   "metadata": {},
   "outputs": [],
   "source": [
    "images_path = os.path.join(pieces_path, 'images')\n",
    "pieces_names = tuple(os.walk(images_path))[0][2]\n",
    "pieces_names = list(map(lambda x: x[:-5], pieces_names))"
   ]
  },
  {
   "cell_type": "code",
   "execution_count": null,
   "metadata": {},
   "outputs": [],
   "source": [
    "#predictions = get_predictions(network, model_weights_path, images_path)"
   ]
  },
  {
   "cell_type": "code",
   "execution_count": null,
   "metadata": {},
   "outputs": [],
   "source": [
    "#predictions_path = save_predictions(predictions, pieces_names, dataset_path)"
   ]
  },
  {
   "cell_type": "code",
   "execution_count": 7,
   "metadata": {},
   "outputs": [],
   "source": [
    "predictions_path = os.path.join(dataset_path, 'predictions')"
   ]
  },
  {
   "cell_type": "code",
   "execution_count": 60,
   "metadata": {},
   "outputs": [],
   "source": [
    "def concat_predictions(predictions_path, pieces_info_path):\n",
    "    pieces_info = pd.read_csv(pieces_info_path, index_col=0)\n",
    "    \n",
    "    result = []\n",
    "    row = []\n",
    "    for piece in tqdm(pieces_info.iterrows()):\n",
    "        if piece[1]['start_x'] == 0 and piece[1]['start_y'] != 0:\n",
    "            result.append(row)\n",
    "            row = []\n",
    "        filename = piece[1]['piece_image'][:-5] + '.png'\n",
    "        with Image.open(os.path.join(predictions_path, filename)) as img:\n",
    "            pred = transforms.ToTensor()(img).numpy()[0]\n",
    "        row.append(pred)\n",
    "            \n",
    "    result.append(row)\n",
    "    \n",
    "    return result\n",
    "            \n",
    "        "
   ]
  },
  {
   "cell_type": "code",
   "execution_count": 61,
   "metadata": {},
   "outputs": [
    {
     "name": "stderr",
     "output_type": "stream",
     "text": [
      "2401it [00:01, 1510.94it/s]\n"
     ]
    }
   ],
   "source": [
    "res = concat_predictions(\n",
    "    predictions_path,\n",
    "    os.path.join(pieces_path, 'image_pieces.csv'))"
   ]
  },
  {
   "cell_type": "code",
   "execution_count": 76,
   "metadata": {},
   "outputs": [],
   "source": [
    "pred = []\n",
    "for i in res:\n",
    "    pred.append(np.concatenate(i, axis=1))\n",
    "    \n",
    "result = np.concatenate(pred, axis=0)"
   ]
  },
  {
   "cell_type": "code",
   "execution_count": 71,
   "metadata": {},
   "outputs": [],
   "source": [
    "import matplotlib.pyplot as plt"
   ]
  },
  {
   "cell_type": "code",
   "execution_count": 77,
   "metadata": {},
   "outputs": [
    {
     "data": {
      "text/plain": [
       "<matplotlib.image.AxesImage at 0x7f823a924470>"
      ]
     },
     "execution_count": 77,
     "metadata": {},
     "output_type": "execute_result"
    },
    {
     "data": {
      "image/png": "[encoded data removed]",
      "text/plain": [
       "<Figure size 432x288 with 1 Axes>"
      ]
     },
     "metadata": {
      "needs_background": "light"
     },
     "output_type": "display_data"
    }
   ],
   "source": [
    "plt.imshow(result)"
   ]
  },
  {
   "cell_type": "code",
   "execution_count": 79,
   "metadata": {},
   "outputs": [
    {
     "name": "stderr",
     "output_type": "stream",
     "text": [
      "Lossy conversion from float32 to uint8. Range [0, 1]. Convert image to uint8 prior to saving to suppress this warning.\n"
     ]
    }
   ],
   "source": [
    "import imageio\n",
    "save_path = os.path.join(dataset_path, 'predicted_mask.png')\n",
    "imageio.imwrite(save_path, result)"
   ]
  },
  {
   "cell_type": "code",
   "execution_count": null,
   "metadata": {},
   "outputs": [],
   "source": []
  }
 ],
 "metadata": {
  "kernelspec": {
   "display_name": "Python 3",
   "language": "python",
   "name": "python3"
  },
  "language_info": {
   "codemirror_mode": {
    "name": "ipython",
    "version": 3
   },
   "file_extension": ".py",
   "mimetype": "text/x-python",
   "name": "python",
   "nbconvert_exporter": "python",
   "pygments_lexer": "ipython3",
   "version": "3.6.8"
  }
 },
 "nbformat": 4,
 "nbformat_minor": 2
}
