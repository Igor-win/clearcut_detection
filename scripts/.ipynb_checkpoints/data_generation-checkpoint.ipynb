{
 "cells": [
  {
   "cell_type": "code",
   "execution_count": 7,
   "metadata": {},
   "outputs": [],
   "source": [
    "import os\n",
    "import imageio\n",
    "import argparse\n",
    "import numpy as np\n",
    "import pandas as pd\n",
    "import geopandas as gp\n",
    "from sklearn.model_selection import StratifiedShuffleSplit"
   ]
  },
  {
   "cell_type": "code",
   "execution_count": 3,
   "metadata": {},
   "outputs": [],
   "source": [
    "DATA_PATH = '../data'\n",
    "IMAGES_FOLDER = 'images'\n",
    "MASKS_FOLDER = 'masks'\n",
    "INSTANCES_FOLDER = 'instance_masks'\n",
    "IMAGE_TYPE = 'tiff'\n",
    "MASK_TYPE = 'png'\n",
    "CHANNELS = []"
   ]
  },
  {
   "cell_type": "code",
   "execution_count": 11,
   "metadata": {},
   "outputs": [],
   "source": [
    "def get_data_info(data_path):\n",
    "    cols = ['name', 'position']\n",
    "    data_info = pd.DataFrame(columns=cols)\n",
    "    \n",
    "    dataset = list(os.walk(data_path))[0][1]\n",
    "#     insatnces_path = os.path.join(datasets_path, dataset_name, INSTANCES_FOLDER)\n",
    "#     instances = list(os.walk(instances_path))[0][1]\n",
    "    return dataset"
   ]
  },
  {
   "cell_type": "code",
   "execution_count": 14,
   "metadata": {},
   "outputs": [
    {
     "data": {
      "text/plain": [
       "['20160103_66979721-be1b-4451-84e0-4a573236defd_ndvi',\n",
       " '20160103_66979721-be1b-4451-84e0-4a573236defd_rgb',\n",
       " '20160103_66979721-be1b-4451-84e0-4a573236defd_b2',\n",
       " '20160103_66979721-be1b-4451-84e0-4a573236defd_ndvi_color']"
      ]
     },
     "execution_count": 14,
     "metadata": {},
     "output_type": "execute_result"
    }
   ],
   "source": [
    "get_data_info(DATA_PATH)"
   ]
  },
  {
   "cell_type": "code",
   "execution_count": null,
   "metadata": {},
   "outputs": [],
   "source": []
  }
 ],
 "metadata": {
  "kernelspec": {
   "display_name": "Python 3",
   "language": "python",
   "name": "python3"
  },
  "language_info": {
   "codemirror_mode": {
    "name": "ipython",
    "version": 3
   },
   "file_extension": ".py",
   "mimetype": "text/x-python",
   "name": "python",
   "nbconvert_exporter": "python",
   "pygments_lexer": "ipython3",
   "version": "3.6.8"
  }
 },
 "nbformat": 4,
 "nbformat_minor": 2
}
