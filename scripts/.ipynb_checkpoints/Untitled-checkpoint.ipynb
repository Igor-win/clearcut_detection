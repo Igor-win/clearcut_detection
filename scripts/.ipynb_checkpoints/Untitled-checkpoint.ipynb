{
 "cells": [
  {
   "cell_type": "code",
   "execution_count": 1,
   "metadata": {},
   "outputs": [],
   "source": [
    "import os\n",
    "\n",
    "import cv2 as cv\n",
    "import pandas as pd\n",
    "import torch\n",
    "import torchvision.transforms as transforms\n",
    "from PIL import Image\n",
    "from catalyst.dl.utils import UtilsFactory\n",
    "from tqdm import tqdm\n",
    "\n",
    "import argparse\n",
    "\n",
    "from models.utils import get_model"
   ]
  },
  {
   "cell_type": "code",
   "execution_count": 4,
   "metadata": {},
   "outputs": [],
   "source": [
    "test_df = '../data/test_df.csv'\n",
    "dataset_path = '../data'\n",
    "network = 'linknet'\n",
    "model_weights_path = '../data/best.pth'"
   ]
  },
  {
   "cell_type": "code",
   "execution_count": 5,
   "metadata": {},
   "outputs": [],
   "source": [
    "def predict(dataset_path, model_weights_path, network, test_df_path):\n",
    "\n",
    "    model = get_model(network)\n",
    "    checkpoint = torch.load(model_weights_path, map_location='cpu')\n",
    "    model.load_state_dict(checkpoint['model_state_dict'])\n",
    "    model.eval()\n",
    "\n",
    "    test_df = pd.read_csv(test_df_path)\n",
    "    \n",
    "    predictions_path = os.path.join(dataset_path, \"predictions\")\n",
    "\n",
    "    if not os.path.exists(predictions_path):\n",
    "        os.mkdir(predictions_path)\n",
    "        print(\"Prediction directory created.\")\n",
    "\n",
    "    for _, data_info in tqdm(test_df.iterrows()):\n",
    "        data = get_image(data_info)\n",
    "\n",
    "        prediction = model(data['features'].view(1, 3, 224, 224))\n",
    "\n",
    "        result = torch.sigmoid(prediction.view(224, 224)).detach().numpy()\n",
    "\n",
    "        cv.imwrite(os.path.join(predictions_path, filename['image_name'] + \".png\"), result * 255)\n"
   ]
  },
  {
   "cell_type": "code",
   "execution_count": null,
   "metadata": {},
   "outputs": [],
   "source": [
    "predict(dataset_path, model_weights_path, network, test_df)"
   ]
  },
  {
   "cell_type": "code",
   "execution_count": 7,
   "metadata": {},
   "outputs": [],
   "source": [
    "def get_image(data_info):\n",
    "    filename = '_'.join([\n",
    "        data_info['name'],\n",
    "        data_info['channel'],\n",
    "        data_info['position']])\n",
    "    image_path = os.path.join(\n",
    "        data_info['image_path'],\n",
    "        '{}.{}'.format(\n",
    "            filename,\n",
    "            data_info['image_type']))\n",
    "    mask_path = os.path.join(\n",
    "        data_info['mask_path'],\n",
    "        '{}.{}'.format(\n",
    "            filename,\n",
    "            data_info['mask_type']))\n",
    "\n",
    "    img = Image.open(image_path)\n",
    "    mask = Image.open(mask_path)\n",
    "\n",
    "    img_tensor = transforms.ToTensor()(img)\n",
    "    mask_tensor = transforms.ToTensor()(mask)\n",
    "\n",
    "    return {'features': img_tensor, 'targets': mask_tensor}"
   ]
  },
  {
   "cell_type": "code",
   "execution_count": null,
   "metadata": {},
   "outputs": [],
   "source": []
  }
 ],
 "metadata": {
  "kernelspec": {
   "display_name": "Python 3",
   "language": "python",
   "name": "python3"
  },
  "language_info": {
   "codemirror_mode": {
    "name": "ipython",
    "version": 3
   },
   "file_extension": ".py",
   "mimetype": "text/x-python",
   "name": "python",
   "nbconvert_exporter": "python",
   "pygments_lexer": "ipython3",
   "version": "3.6.8"
  }
 },
 "nbformat": 4,
 "nbformat_minor": 2
}
