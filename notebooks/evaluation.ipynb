{
 "cells": [
  {
   "cell_type": "code",
   "execution_count": 1,
   "metadata": {},
   "outputs": [],
   "source": [
    "import numpy as np\n",
    "import pandas as pd\n",
    "from tqdm import tqdm\n",
    "import os\n",
    "import cv2 as cv\n",
    "import tensorflow as tf\n",
    "from PIL import Image"
   ]
  },
  {
   "cell_type": "code",
   "execution_count": 2,
   "metadata": {},
   "outputs": [],
   "source": [
    "def watershed_transformation(prediction):\n",
    "    kernel = np.array([[1, 1, 1], [1, -8, 1], [1, 1, 1]], dtype=np.float32)\n",
    "\n",
    "    imgLaplacian = cv.filter2D(prediction, cv.CV_32F, kernel)\n",
    "    sharp = np.float32(prediction)\n",
    "    imgResult = sharp - imgLaplacian\n",
    "\n",
    "    imgResult = np.clip(imgResult, 0, 255)\n",
    "    imgResult = imgResult.astype('uint8')\n",
    "\n",
    "    bw = cv.cvtColor(prediction, cv.COLOR_BGR2GRAY)\n",
    "    _, bw = cv.threshold(bw, 40, 255, cv.THRESH_BINARY | cv.THRESH_OTSU)\n",
    "\n",
    "    dist = cv.distanceTransform(bw, cv.DIST_L2, 3)\n",
    "    cv.normalize(dist, dist, 0, 1.0, cv.NORM_MINMAX)\n",
    "    _, thresholded = cv.threshold(dist, 0.2, 1.0, cv.THRESH_BINARY)\n",
    "\n",
    "    kernel1 = np.ones((3, 3), dtype=np.uint8)\n",
    "    dilated = cv.dilate(thresholded, kernel1)\n",
    "\n",
    "    dist_8u = dilated.astype('uint8')\n",
    "    contours, _ = cv.findContours(dist_8u, cv.RETR_EXTERNAL, cv.CHAIN_APPROX_SIMPLE)\n",
    "    markers = np.zeros(dilated.shape, dtype=np.int32)\n",
    "\n",
    "    for i in range(len(contours)):\n",
    "        cv.drawContours(markers, contours, i, (i + 1), -1)\n",
    "\n",
    "    cv.circle(markers, (5, 5), 3, (255, 255, 255), -1)\n",
    "    cv.watershed(imgResult, markers)\n",
    "\n",
    "    return markers\n",
    "\n",
    "\n",
    "def post_processing(prediction):\n",
    "    return watershed_transformation(prediction)"
   ]
  },
  {
   "cell_type": "code",
   "execution_count": 3,
   "metadata": {},
   "outputs": [],
   "source": [
    "def dice_coef_logical(true_positives, false_positives, false_negatives):\n",
    "    if true_positives + false_negatives + false_positives == 0:\n",
    "        return 1\n",
    "    return (2. * true_positives) / (2. * true_positives + false_positives + false_negatives)\n",
    "\n",
    "\n",
    "def dice_coef(y_true, y_pred, smooth=1.0):\n",
    "    y_true_f = y_true.flatten()\n",
    "    y_pred_f = y_pred.flatten()\n",
    "    intersection = np.sum(y_true_f * y_pred_f)\n",
    "    return (2. * intersection + smooth) / (np.sum(y_true_f) + np.sum(y_pred_f) + smooth)\n",
    "\n",
    "\n",
    "def iou(y_true, y_pred, smooth=1.0):\n",
    "    y_true_f = y_true.flatten()\n",
    "    y_pred_f = y_pred.flatten()\n",
    "    intersection = np.sum(y_true_f * y_pred_f)\n",
    "    return (2. * intersection + smooth) / (np.sum(y_true_f) + np.sum(y_pred_f) + smooth)\n",
    "\n",
    "\n",
    "def compute_iou_matrix(markers, instances):\n",
    "    labels = np.unique(markers)\n",
    "\n",
    "    labels = labels[labels < 255]\n",
    "    labels = labels[labels > 0]\n",
    "\n",
    "    iou_matrix = np.zeros((len(labels), len(instances)), dtype=np.float32)\n",
    "\n",
    "    for i, label in enumerate(labels):\n",
    "        prediction_instance = (markers == label).astype(int)\n",
    "\n",
    "        for j, ground_truth_instance in enumerate(instances):\n",
    "            iou_value = iou(prediction_instance, ground_truth_instance)\n",
    "            iou_matrix[i, j] = iou_value\n",
    "\n",
    "    return iou_matrix\n",
    "\n",
    "\n",
    "def compute_metric_at_thresholds(iou_matrix):\n",
    "    dices = []\n",
    "    if iou_matrix.shape == (0, 0):\n",
    "        return 1\n",
    "    for threshold in np.arange(0.5, 1, 0.05):\n",
    "        true_positives = (iou_matrix.max(axis=1) > threshold).sum()\n",
    "        false_positives = (iou_matrix.max(axis=1) <= threshold).sum()\n",
    "        false_negatives = (iou_matrix.max(axis=0) <= threshold).sum()\n",
    "        dices.append(dice_coef_logical(true_positives, false_positives, false_negatives))\n",
    "    return np.average(dices)"
   ]
  },
  {
   "cell_type": "code",
   "execution_count": 4,
   "metadata": {},
   "outputs": [],
   "source": [
    "def evaluate(dataset_path, predictions_path, test_df_path, output_name):\n",
    "    filenames = pd.read_csv(test_df_path)\n",
    "\n",
    "    metrics = []\n",
    "    dices = []\n",
    "    \n",
    "    writer = tf.python_io.TFRecordWriter(\n",
    "        os.path.join(os.path.dirname(predictions_path), output_name + '.tfrecords'))\n",
    "\n",
    "    for ind, filename in tqdm(filenames.iterrows()):\n",
    "\n",
    "        prediction = cv.imread(os.path.join(predictions_path, filename[\"image_name\"]) + \".png\")\n",
    "        image = cv.imread(os.path.join(dataset_path, \"images\", filename[\"image_name\"]) + \".png\")\n",
    "        mask = cv.imread(os.path.join(dataset_path, \"masks\", filename[\"image_name\"]) + \".png\")\n",
    "\n",
    "        img_size = image.shape\n",
    "        instances = []\n",
    "\n",
    "        image_instances_path = os.path.join(dataset_path, \"instance_masks\", filename[\"image_name\"])\n",
    "\n",
    "        for instance_name in os.listdir(image_instances_path):\n",
    "            if \".png\" in instance_name and \".xml\" not in instance_name:\n",
    "                rgb_instance = cv.imread(os.path.join(image_instances_path, instance_name))\n",
    "                bw_instance = cv.cvtColor(rgb_instance, cv.COLOR_BGR2GRAY)\n",
    "                instances.append(bw_instance)\n",
    "\n",
    "        markers = post_processing(prediction)\n",
    "        iou_matrix = compute_iou_matrix(markers, instances)\n",
    "        metric = compute_metric_at_thresholds(iou_matrix)\n",
    "        metrics.append(metric)\n",
    "\n",
    "        img_raw = Image.fromarray(np.uint8(image), 'RGB').tobytes()\n",
    "        msk_raw = Image.fromarray(np.uint8(mask), 'RGB').tobytes()\n",
    "        pred_raw = Image.fromarray(np.uint8(prediction), 'RGB').tobytes()\n",
    "\n",
    "        dice_score = dice_coef(mask, (prediction / 255) > 0.5)\n",
    "\n",
    "        dices.append(dice_score)\n",
    "        \n",
    "        example = tf.train.Example(features=tf.train.Features(feature={\n",
    "            \"img_height\": tf.train.Feature(int64_list=tf.train.Int64List(value=[int(img_size[1])])),\n",
    "            \"img_width\": tf.train.Feature(int64_list=tf.train.Int64List(value=[int(img_size[0])])),\n",
    "            \"dice_score\": tf.train.Feature(float_list=tf.train.FloatList(value=[dice_score])),\n",
    "            \"img_raw\": tf.train.Feature(bytes_list=tf.train.BytesList(value=[img_raw])),\n",
    "            \"mask_raw\": tf.train.Feature(bytes_list=tf.train.BytesList(value=[msk_raw])),\n",
    "            \"pred_raw\": tf.train.Feature(bytes_list=tf.train.BytesList(value=[pred_raw])),\n",
    "            \"metric\": tf.train.Feature(float_list=tf.train.FloatList(value=[metric])),\n",
    "            \"img_name\": tf.train.Feature(\n",
    "                bytes_list=tf.train.BytesList(value=[tf.compat.as_bytes(filename[\"image_name\"])])),\n",
    "            \"msk_name\": tf.train.Feature(\n",
    "                bytes_list=tf.train.BytesList(value=[tf.compat.as_bytes(filename[\"image_name\"])])),\n",
    "            \"pred_name\": tf.train.Feature(\n",
    "                bytes_list=tf.train.BytesList(value=[tf.compat.as_bytes(filename[\"image_name\"])])),\n",
    "        }))\n",
    "        writer.write(example.SerializeToString())\n",
    "\n",
    "    print(\"Metrics value - {0}\".format(round(np.average(metrics), 4)))\n",
    "    print(\"Average dice score - {0}\".format(round(np.average(dices), 4)))"
   ]
  },
  {
   "cell_type": "code",
   "execution_count": 5,
   "metadata": {},
   "outputs": [],
   "source": [
    "dataset_path = \"../../test_data/preprocessed_data/20160103_66979721-be1b-4451-84e0-4a573236defd_rgb/\"\n",
    "prediction_path = \"../../test_data/preprocessed_data/20160103_66979721-be1b-4451-84e0-4a573236defd_rgb/predictions/\"\n",
    "\n",
    "# Dataframe with test image names \n",
    "test_df_path = \"../../forest_cutting/scripts/20160103_66979721-be1b-4451-84e0-4a573236defd_rgb_test.csv\"\n",
    "output_name = \"prediction_metrics\""
   ]
  },
  {
   "cell_type": "code",
   "execution_count": 6,
   "metadata": {},
   "outputs": [
    {
     "name": "stderr",
     "output_type": "stream",
     "text": [
      "50it [00:00, 53.24it/s]"
     ]
    },
    {
     "name": "stdout",
     "output_type": "stream",
     "text": [
      "Metrics value - 0.2845\n",
      "Average dice score - 0.641\n"
     ]
    },
    {
     "name": "stderr",
     "output_type": "stream",
     "text": [
      "\n"
     ]
    }
   ],
   "source": [
    "evaluate(dataset_path, prediction_path, test_df_path, output_name)"
   ]
  },
  {
   "cell_type": "code",
   "execution_count": null,
   "metadata": {},
   "outputs": [],
   "source": []
  }
 ],
 "metadata": {
  "kernelspec": {
   "display_name": "Python 3",
   "language": "python",
   "name": "python3"
  },
  "language_info": {
   "codemirror_mode": {
    "name": "ipython",
    "version": 3
   },
   "file_extension": ".py",
   "mimetype": "text/x-python",
   "name": "python",
   "nbconvert_exporter": "python",
   "pygments_lexer": "ipython3",
   "version": "3.6.7"
  }
 },
 "nbformat": 4,
 "nbformat_minor": 2
}
