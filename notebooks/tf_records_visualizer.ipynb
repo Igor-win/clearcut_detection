{
 "cells": [
  {
   "cell_type": "code",
   "execution_count": 7,
   "metadata": {},
   "outputs": [],
   "source": [
    "import pandas as pd\n",
    "import numpy as np\n",
    "from shutil import copyfile\n",
    "\n",
    "import os\n",
    "import cv2 as cv\n",
    "from PIL import Image\n",
    "import skimage.io as io\n",
    "\n",
    "import tensorflow as tf\n",
    "import matplotlib.pyplot as plt\n",
    "import matplotlib.gridspec as gridspec\n",
    "%matplotlib inline\n",
    "from ipywidgets import interact, Text, RadioButtons, fixed, FloatSlider\n",
    "import ipywidgets as widgets\n",
    "from IPython.display import clear_output"
   ]
  },
  {
   "cell_type": "code",
   "execution_count": 8,
   "metadata": {},
   "outputs": [],
   "source": [
    "def read_from_tf_records(tf_records_path):\n",
    "    \"\"\"\n",
    "    Reads images, labels from tfrecords files.\n",
    "    :param tf_records_path: list of tfrecord file names\n",
    "    :return: lists of\n",
    "    \"\"\"\n",
    "    img_heights, img_widths, dice_scores, imgs, masks, results, img_names, metrics = [], [], [], [], [], [], [], []\n",
    "\n",
    "    assert os.path.isfile(tf_records_path)\n",
    "    record_iterator = tf.python_io.tf_record_iterator(tf_records_path)\n",
    "    for serialized_example in record_iterator:\n",
    "        \n",
    "        example = tf.train.Example()\n",
    "        example.ParseFromString(serialized_example)\n",
    "        \n",
    "        img_raw = example.features.feature['img_raw'].bytes_list.value\n",
    "        msk_raw = example.features.feature['mask_raw'].bytes_list.value\n",
    "        rst_raw = example.features.feature['pred_raw'].bytes_list.value\n",
    "        \n",
    "        img_height = example.features.feature['img_height'].int64_list.value\n",
    "        img_width = example.features.feature['img_width'].int64_list.value\n",
    "        image_name = example.features.feature['img_name'].bytes_list.value\n",
    "        \n",
    "        dice_score = example.features.feature['dice_score'].float_list.value\n",
    "        metric= example.features.feature['metric'].float_list.value\n",
    "        \n",
    "        image = Image.frombytes('RGB', (img_width[0], img_height[0]), img_raw[0])\n",
    "        mask = Image.frombytes('RGB', (img_width[0], img_height[0]), msk_raw[0])\n",
    "        result = Image.frombytes('RGB', (img_width[0], img_height[0]), rst_raw[0])\n",
    "        \n",
    "        img_heights.append(img_height[0])\n",
    "        img_widths.append(img_width[0])\n",
    "        img_names.append(image_name[0])\n",
    "        \n",
    "        dice_scores.append(dice_score[0])\n",
    "        metrics.append(metric[0])\n",
    "        \n",
    "        imgs.append(np.array(image))\n",
    "        masks.append(np.array(mask))\n",
    "        results.append(np.array(result))\n",
    "\n",
    "\n",
    "    return img_heights, img_widths, np.array(dice_scores), np.array(imgs), np.array(masks), np.array(results), np.array(img_names), np.array(metrics)"
   ]
  },
  {
   "cell_type": "code",
   "execution_count": 19,
   "metadata": {},
   "outputs": [],
   "source": [
    "def visualize_tfr(image, mask, result, dices, names, metrics):\n",
    "    grid_width=2\n",
    "    grid_height=6\n",
    "\n",
    "    fig = plt.figure(figsize=(20, 22))\n",
    "    outer = gridspec.GridSpec(grid_height, grid_width, wspace=0.1, hspace=0.1)\n",
    "\n",
    "    for i in range(grid_height * grid_width):\n",
    "        inner = gridspec.GridSpecFromSubplotSpec(1, 3,\n",
    "                        subplot_spec=outer[i], wspace=0.1, hspace=0.1)\n",
    "\n",
    "        try:\n",
    "            for j, (im, cls, label) in enumerate(zip([image[i], mask[i], result[i]],\n",
    "                                                     ['Image', 'Mask', 'Result'],\n",
    "                                                     [dices[i], names[i], names[i]])):\n",
    "                ax = plt.Subplot(fig, inner[j])\n",
    "                ax.set_title(cls)\n",
    "                if cls == 'Image':\n",
    "                    ax.imshow(im)\n",
    "\n",
    "                elif cls == 'Mask':\n",
    "                    ax.imshow(im)\n",
    "                    ax.set_xlabel(str(names[i]) + ' dice: ' + str(round(dices[i], 4)) + ' metric: ' + str(round(metrics[i], 4)))\n",
    "                else:\n",
    "                    prediction = np.zeros(im.shape)\n",
    "                    prediction[im > 128]=1\n",
    "                    ax.imshow(prediction, cmap=plt.cm.gray)\n",
    "\n",
    "                ax.set_xticks([])\n",
    "                ax.set_yticks([])\n",
    "                fig.add_subplot(ax)\n",
    "        except:\n",
    "            continue"
   ]
  },
  {
   "cell_type": "code",
   "execution_count": 20,
   "metadata": {},
   "outputs": [],
   "source": [
    "def visualize_tf_records_inter(tfr, epsilon=0.05, num_samples=18):\n",
    "    img_heights, img_widths, dice_scores, imgs, masks, results, img_names, metrics = read_from_tf_records(tfr)\n",
    "    print(round(np.average(dice_scores), 4))\n",
    "    def on_value_change(dice):\n",
    "        \n",
    "        indxs = np.where((dice_scores < dice+epsilon) & (dice_scores > dice-epsilon))[0]\n",
    "\n",
    "        step = num_samples\n",
    "        parts = int(np.ceil(len(indxs)/step))\n",
    "        print(\"Pages: {0}\".format(parts))\n",
    "\n",
    "        \n",
    "        def view_image(i):\n",
    "            start = i*step\n",
    "            finish = step + i*step\n",
    "            ind = indxs[start:finish]\n",
    "            visualize_tfr(imgs[ind], masks[ind], results[ind], dice_scores[ind], img_names[ind], metrics[ind])\n",
    "        \n",
    "        interact(view_image, i=(0, parts-1), value=0)\n",
    "\n",
    "    interact(on_value_change, dice=FloatSlider(min=epsilon, max=1.0-epsilon, step=0.05, continuous_update=False, value=0.5));"
   ]
  },
  {
   "cell_type": "code",
   "execution_count": 24,
   "metadata": {},
   "outputs": [
    {
     "name": "stdout",
     "output_type": "stream",
     "text": [
      "0.5068\n"
     ]
    },
    {
     "data": {
      "application/vnd.jupyter.widget-view+json": {
       "model_id": "0c553f783fc149bdb8d2c26ac6aea53c",
       "version_major": 2,
       "version_minor": 0
      },
      "text/plain": [
       "interactive(children=(FloatSlider(value=0.5, continuous_update=False, description='dice', max=0.95, min=0.05, …"
      ]
     },
     "metadata": {},
     "output_type": "display_data"
    }
   ],
   "source": [
    "visualize_tf_records_inter('''../../test_data/preprocessed_winter/20160103_66979721-be1b-4451-84e0-4a573236defd_rgb/predictions/prediction_metrics.tfrecords''',\n",
    "                           epsilon=0.05,\n",
    "                           num_samples=8)"
   ]
  },
  {
   "cell_type": "code",
   "execution_count": null,
   "metadata": {},
   "outputs": [],
   "source": []
  }
 ],
 "metadata": {
  "kernelspec": {
   "display_name": "Python 3",
   "language": "python",
   "name": "python3"
  },
  "language_info": {
   "codemirror_mode": {
    "name": "ipython",
    "version": 3
   },
   "file_extension": ".py",
   "mimetype": "text/x-python",
   "name": "python",
   "nbconvert_exporter": "python",
   "pygments_lexer": "ipython3",
   "version": "3.6.7"
  }
 },
 "nbformat": 4,
 "nbformat_minor": 2
}
