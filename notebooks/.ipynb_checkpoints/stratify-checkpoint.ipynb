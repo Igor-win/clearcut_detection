{
 "cells": [
  {
   "cell_type": "code",
   "execution_count": 1,
   "metadata": {},
   "outputs": [],
   "source": [
    "import os\n",
    "import imageio\n",
    "import numpy as np\n",
    "import pandas as pd\n",
    "import geopandas as gp\n",
    "from sklearn.model_selection import StratifiedShuffleSplit"
   ]
  },
  {
   "cell_type": "code",
   "execution_count": 71,
   "metadata": {},
   "outputs": [],
   "source": [
    "DATA = '../data'\n",
    "IMAGES_PATH = 'images'\n",
    "MASKS_PATH = 'masks'\n",
    "INSTANCES_PATH = 'instance_masks'\n",
    "WIDHT , HEIGHT = 224, 224\n",
    "CHANNELS = 3"
   ]
  },
  {
   "cell_type": "code",
   "execution_count": 176,
   "metadata": {},
   "outputs": [],
   "source": [
    "def get_area(instance_path):\n",
    "    return (gp.read_file(instance_path)['geometry'].area / 100).median()\n",
    "\n",
    "    \n",
    "def get_labels(distr):\n",
    "    res = np.full(distr.shape, 3)\n",
    "    res[areas < np.quantile(distr, 0.75)] = 2\n",
    "    res[areas < np.quantile(distr, 0.5)] = 1\n",
    "    res[areas < np.quantile(distr, 0.25)] = 0\n",
    "    return res"
   ]
  },
  {
   "cell_type": "code",
   "execution_count": 179,
   "metadata": {},
   "outputs": [],
   "source": [
    "def stratify(\n",
    "    data_path, width=224, height=224, channels=3, images_path_name='images',\n",
    "    masks_path_name='masks', instances_path_name='instance_masks'\n",
    "    ):\n",
    "     \n",
    "    X = np.empty([0, width, height, channels])\n",
    "    y = np.empty([0, width, height])\n",
    "    areas = np.empty([0])\n",
    "    datasets = list(os.walk(data_path))[0][1]\n",
    "    for dataset in datasets:\n",
    "        images_path = os.path.join(DATA, dataset, images_path_name)\n",
    "        masks_path = os.path.join(DATA, dataset, masks_path_name)\n",
    "        instances_path = os.path.join(DATA, dataset, instances_path_name)\n",
    "        instances = list(os.walk(instances_path))[0][1]\n",
    "\n",
    "        X = np.concatenate((\n",
    "            X, [imageio.imread(os.path.join(images_path, i + '.jpeg')) for i in instances]))\n",
    "        y = np.concatenate((\n",
    "            y, [imageio.imread(os.path.join(masks_path, i + '.png')) for i in instances]))\n",
    "        y = y.reshape([*y.shape, 1])\n",
    "        areas = np.concatenate((\n",
    "            areas, \n",
    "            [get_area(os.path.join(instances_path, i, i + '.geojson')) for i in instances]))\n",
    "        labels = get_labels(areas)\n",
    "\n",
    "    sss = StratifiedShuffleSplit(n_splits=1, test_size=0.2, random_state=42)\n",
    "    for train_ix, test_ix in sss.split(X, labels):\n",
    "        X_train, X_test = X[train_ix], X[test_ix]\n",
    "        y_train, y_test = y[train_ix], y[test_ix]\n",
    "\n",
    "    return X_train, y_train, X_test, y_test"
   ]
  },
  {
   "cell_type": "code",
   "execution_count": 181,
   "metadata": {},
   "outputs": [
    {
     "name": "stdout",
     "output_type": "stream",
     "text": [
      "(196, 224, 224, 3)\n",
      "(196, 224, 224, 1)\n",
      "(49, 224, 224, 3)\n",
      "(49, 224, 224, 1)\n"
     ]
    }
   ],
   "source": [
    "a, b, c, d = stratify(DATA)\n",
    "print(a.shape, b.shape, c.shape, d.shape, sep='\\n')"
   ]
  },
  {
   "cell_type": "code",
   "execution_count": null,
   "metadata": {},
   "outputs": [],
   "source": []
  }
 ],
 "metadata": {
  "kernelspec": {
   "display_name": "Python 3",
   "language": "python",
   "name": "python3"
  },
  "language_info": {
   "codemirror_mode": {
    "name": "ipython",
    "version": 3
   },
   "file_extension": ".py",
   "mimetype": "text/x-python",
   "name": "python",
   "nbconvert_exporter": "python",
   "pygments_lexer": "ipython3",
   "version": "3.6.8"
  }
 },
 "nbformat": 4,
 "nbformat_minor": 2
}
