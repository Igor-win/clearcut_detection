{
 "cells": [
  {
   "cell_type": "code",
   "execution_count": 1,
   "metadata": {},
   "outputs": [],
   "source": [
    "import os\n",
    "import imageio\n",
    "import numpy as np\n",
    "import pandas as pd\n",
    "import geopandas as gp\n",
    "from sklearn.model_selection import StratifiedShuffleSplit"
   ]
  },
  {
   "cell_type": "code",
   "execution_count": 2,
   "metadata": {},
   "outputs": [],
   "source": [
    "DATA = '../data'\n",
    "IMAGES_PATH = 'images'\n",
    "MASKS_PATH = 'masks'\n",
    "INSTANCES_PATH = 'instance_masks'\n",
    "WIDHT , HEIGHT = 224, 224\n",
    "CHANNELS = 3"
   ]
  },
  {
   "cell_type": "code",
   "execution_count": 78,
   "metadata": {},
   "outputs": [],
   "source": [
    "def get_data_pathes(\n",
    "    datasets_path, images_path_name='images',\n",
    "    masks_path_name='masks', instances_path_name='instance_masks'):\n",
    "    \n",
    "    datasets = list(os.walk(datasets_path))[0][1]\n",
    "    data_pathes = []\n",
    "    for dataset in datasets:\n",
    "        data_pathes.append((\n",
    "            os.path.join(datasets_path, dataset, images_path_name),\n",
    "            os.path.join(datasets_path, dataset, masks_path_name),\n",
    "            os.path.join(datasets_path, dataset, instances_path_name)))\n",
    "    \n",
    "    return data_pathes\n",
    "\n",
    "\n",
    "def get_instances(instances_path):\n",
    "    return list(os.walk(instances_path))[0][1]\n",
    "\n",
    "\n",
    "def image2mask(image_path, image_type):\n",
    "    return imageio.imread('{}.{}'.format(image_path, image_type))\n",
    "\n",
    "\n",
    "def get_data(images_path, masks_path, instances, image_type='jpeg', mask_type='png'):\n",
    "    X = np.array([\n",
    "         image2mask(os.path.join(images_path, i), image_type)for i in instances])\n",
    "    y = np.array([\n",
    "        image2mask(os.path.join(masks_path, i), mask_type)for i in instances])\n",
    "    y = y.reshape([*y.shape, 1])\n",
    "    \n",
    "    return X, y\n",
    "\n",
    "\n",
    "def get_area(instance_path):\n",
    "    return (gp.read_file(instance_path)['geometry'].area / 100).median()\n",
    "\n",
    "    \n",
    "def get_labels(distr):\n",
    "    res = np.full(distr.shape, 3)\n",
    "    res[distr < np.quantile(distr, 0.75)] = 2\n",
    "    res[distr < np.quantile(distr, 0.5)] = 1\n",
    "    res[distr < np.quantile(distr, 0.25)] = 0\n",
    "    return res\n",
    "\n",
    "\n",
    "def stratify(datasets_path, test_size):\n",
    "    datasets = get_data_pathes(datasets_path)\n",
    "    images_path, masks_path, instances_path = datasets[0]\n",
    "    instances = list(os.walk(instances_path))[0][1]\n",
    "    X, _ = get_data(images_path, masks_path, instances)\n",
    "    areas = np.array([\n",
    "        get_area(os.path.join(instances_path, i, i + '.geojson')) for i in instances])\n",
    "    labels = get_labels(areas)\n",
    "\n",
    "    sss = StratifiedShuffleSplit(\n",
    "        n_splits=len(datasets), test_size=test_size, random_state=42)\n",
    "    \n",
    "    return sss.split(X, labels)\n",
    "\n",
    "\n",
    "def build_generator(datasets_path, test_size=0.2, train=True):\n",
    "    stratified_ix = stratify(datasets_path)\n",
    "    datasets = get_data_pathes(datasets_path) \n",
    "    for i, (train_ix, test_ix) in enumerate(stratify(DATA)):\n",
    "        images_path, masks_path, instances_path = datasets[i]\n",
    "        instances = list(os.walk(instances_path))[0][1]\n",
    "        X, y = get_data(images_path, masks_path, instances)\n",
    "        if train:\n",
    "            yield X[train_ix], y[train_ix]\n",
    "        else:\n",
    "            yield X[test_ix], y[test_ix]"
   ]
  },
  {
   "cell_type": "code",
   "execution_count": 91,
   "metadata": {},
   "outputs": [
    {
     "name": "stdout",
     "output_type": "stream",
     "text": [
      "(196, 224, 224, 3)\n",
      "(196, 224, 224, 1)\n",
      "(196, 224, 224, 3)\n",
      "(196, 224, 224, 1)\n",
      "(49, 224, 224, 3)\n",
      "(49, 224, 224, 1)\n",
      "(49, 224, 224, 3)\n",
      "(49, 224, 224, 1)\n"
     ]
    }
   ],
   "source": [
    "for X, y in build_generator(DATA):\n",
    "    print(X.shape, y.shape, sep='\\n')\n",
    "for X, y in build_generator(DATA, train=False):\n",
    "    print(X.shape, y.shape, sep='\\n')"
   ]
  }
 ],
 "metadata": {
  "kernelspec": {
   "display_name": "Python 3",
   "language": "python",
   "name": "python3"
  },
  "language_info": {
   "codemirror_mode": {
    "name": "ipython",
    "version": 3
   },
   "file_extension": ".py",
   "mimetype": "text/x-python",
   "name": "python",
   "nbconvert_exporter": "python",
   "pygments_lexer": "ipython3",
   "version": "3.6.8"
  }
 },
 "nbformat": 4,
 "nbformat_minor": 2
}
