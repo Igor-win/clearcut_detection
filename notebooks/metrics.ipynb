{
 "cells": [
  {
   "cell_type": "code",
   "execution_count": 278,
   "metadata": {},
   "outputs": [],
   "source": [
    "import geopandas as gpd\n",
    "import numpy as np\n",
    "import fiona\n",
    "from shapely.geometry import shape\n",
    "from shapely.ops import cascaded_union\n",
    "from shapely.geometry import Polygon"
   ]
  },
  {
   "cell_type": "code",
   "execution_count": 279,
   "metadata": {},
   "outputs": [],
   "source": [
    "predicted_path = \"../data/predicted/predicted_20160103_66979721-be1b-4451-84e0-4a573236defd.geojson\"\n",
    "pred = gpd.read_file(predicted_path)"
   ]
  },
  {
   "cell_type": "code",
   "execution_count": 280,
   "metadata": {},
   "outputs": [],
   "source": [
    "sum_coords = []\n",
    "for num, row in pred.iterrows():\n",
    "    sum_coords.extend(list(row['geometry'].exterior.coords))\n",
    "    \n",
    "base_bound = Polygon(sum_coords).bounds\n",
    "\n",
    "\n",
    "p1 = Polygon(\n",
    "            [(base_bound[0], base_bound[1]),\n",
    "             (base_bound[0], base_bound[3]),\n",
    "             (base_bound[2], base_bound[3]),\n",
    "             (base_bound[2], base_bound[1])\n",
    "             ])"
   ]
  },
  {
   "cell_type": "code",
   "execution_count": 281,
   "metadata": {},
   "outputs": [],
   "source": [
    "gt_path = \"../data/clearcuts_kh_2016-12-05/clearcuts_backup_2016-12-05.shp\"\n",
    "gt_poly = gpd.read_file(gt_path)"
   ]
  },
  {
   "cell_type": "code",
   "execution_count": 282,
   "metadata": {},
   "outputs": [],
   "source": [
    "gt_poly.crs = {'init' :'epsg:4326'}\n",
    "gt_poly = gt_poly.to_crs({'init': \"epsg:32637\"})"
   ]
  },
  {
   "cell_type": "code",
   "execution_count": 283,
   "metadata": {},
   "outputs": [],
   "source": [
    "sum_coords = []\n",
    "for num, row in gt_poly.iterrows():\n",
    "    sum_coords.extend(list(row['geometry'].exterior.coords))\n",
    "    \n",
    "base_bound = Polygon(sum_coords).bounds\n",
    "\n",
    "p2 = Polygon(\n",
    "            [(base_bound[0], base_bound[1]),\n",
    "             (base_bound[0], base_bound[3]),\n",
    "             (base_bound[2], base_bound[3]),\n",
    "             (base_bound[2], base_bound[1])\n",
    "             ])"
   ]
  },
  {
   "cell_type": "code",
   "execution_count": 284,
   "metadata": {},
   "outputs": [
    {
     "data": {
      "text/plain": [
       "(array('d', [262575.75868537056, 262575.75868537056, 356329.76694924606, 356329.76694924606, 262575.75868537056]),\n",
       " array('d', [5478583.44112516, 5581428.357466508, 5581428.357466508, 5478583.44112516, 5478583.44112516]))"
      ]
     },
     "execution_count": 284,
     "metadata": {},
     "output_type": "execute_result"
    }
   ],
   "source": [
    "p2.exterior.coords.xy"
   ]
  },
  {
   "cell_type": "code",
   "execution_count": 285,
   "metadata": {},
   "outputs": [],
   "source": [
    "p3 = p1.intersection(p2)"
   ]
  },
  {
   "cell_type": "code",
   "execution_count": 286,
   "metadata": {},
   "outputs": [],
   "source": [
    "united_poly = gpd.GeoDataFrame(geometry=[p3])\n",
    "united_poly.to_file(\"../data/predicted/intersection_f1.geojson\", driver=\"GeoJSON\")"
   ]
  },
  {
   "cell_type": "code",
   "execution_count": 287,
   "metadata": {},
   "outputs": [],
   "source": [
    "gt_for_f1 = gt_poly[gt_poly.intersects(p3)]"
   ]
  },
  {
   "cell_type": "code",
   "execution_count": 288,
   "metadata": {},
   "outputs": [],
   "source": [
    "pred_for_f1 = pred[pred.intersects(p3)]"
   ]
  },
  {
   "cell_type": "code",
   "execution_count": 289,
   "metadata": {},
   "outputs": [],
   "source": [
    "pred_for_f1.to_file(\"../data/predicted/res_for_f1.geojson\", driver=\"GeoJSON\")"
   ]
  },
  {
   "cell_type": "code",
   "execution_count": 290,
   "metadata": {},
   "outputs": [],
   "source": [
    "gt_for_f1.to_file(\"../data/predicted/gt_for_f1.geojson\", driver=\"GeoJSON\")"
   ]
  },
  {
   "cell_type": "code",
   "execution_count": 291,
   "metadata": {},
   "outputs": [],
   "source": [
    "def F1_score(pred_polys, true_polys, threshold):\n",
    "    \"\"\"\n",
    "    Calculates F1 score using shapely polygons.\n",
    "\n",
    "    :param pred_polys: Predicted polygons.\n",
    "    :param true_polys: Ground truth polygons.\n",
    "    :param threshold: IoU threshold.\n",
    "    :return: F1 score, recall, precision.\n",
    "    \"\"\"\n",
    "    preds = [pred.buffer(0) for pred in pred_polys]\n",
    "    truths = [true.buffer(0) for true in true_polys]\n",
    "\n",
    "    if (len(preds) == 0) and (len(truths) == 0):\n",
    "        precision = 1\n",
    "        recall = 1\n",
    "        F1 = 1\n",
    "        return F1, recall, precision\n",
    "\n",
    "    true_positives = 0\n",
    "    false_positives = 0\n",
    "    false_negatives = 0\n",
    "\n",
    "    for truth in truths:\n",
    "        ious = []\n",
    "        for pred in preds:\n",
    "            if not truth.intersects(pred):\n",
    "                ious.append(0)\n",
    "            else:\n",
    "                intersection = truth.intersection(pred).area\n",
    "                union = truth.union(pred).area\n",
    "                ious.append(intersection / union)\n",
    "\n",
    "        if len(ious) == 0:\n",
    "            false_negatives += 1\n",
    "            continue\n",
    "\n",
    "        best = max(ious)\n",
    "        if best >= threshold:\n",
    "            preds.pop(ious.index(best))\n",
    "            true_positives += 1\n",
    "        else:\n",
    "            false_negatives += 1\n",
    "\n",
    "    false_positives = len(preds)\n",
    "\n",
    "    try:\n",
    "        precision = true_positives / (true_positives + false_positives)\n",
    "    except:\n",
    "        print(\"Precision value undefined, setting to zero\")\n",
    "        precision = 0\n",
    "\n",
    "    try:\n",
    "        recall = true_positives / (true_positives + false_negatives)\n",
    "    except:\n",
    "        print(\"Recall value undefined, setting to zero\")\n",
    "        recall = 0\n",
    "\n",
    "    try:\n",
    "        F1 = (\n",
    "            2 * (precision * recall) / (precision + recall)\n",
    "        )\n",
    "    except:\n",
    "        print(\"F1 value undefined, setting to zero\")\n",
    "        F1 = 0\n",
    "    return F1, recall, precision"
   ]
  },
  {
   "cell_type": "code",
   "execution_count": 292,
   "metadata": {},
   "outputs": [],
   "source": [
    "areas = [_poly.area for _poly in gt_for_f1['geometry'].values]"
   ]
  },
  {
   "cell_type": "code",
   "execution_count": 293,
   "metadata": {},
   "outputs": [
    {
     "data": {
      "text/plain": [
       "610982.4873263139"
      ]
     },
     "execution_count": 293,
     "metadata": {},
     "output_type": "execute_result"
    }
   ],
   "source": [
    "np.max(areas)"
   ]
  },
  {
   "cell_type": "code",
   "execution_count": 294,
   "metadata": {},
   "outputs": [],
   "source": [
    "pred_areas = [_poly.area for _poly in pred_for_f1['geometry'].values]"
   ]
  },
  {
   "cell_type": "code",
   "execution_count": 295,
   "metadata": {},
   "outputs": [
    {
     "data": {
      "text/plain": [
       "803650.0"
      ]
     },
     "execution_count": 295,
     "metadata": {},
     "output_type": "execute_result"
    }
   ],
   "source": [
    "np.max(pred_areas)"
   ]
  },
  {
   "cell_type": "code",
   "execution_count": 296,
   "metadata": {},
   "outputs": [
    {
     "data": {
      "text/plain": [
       "974"
      ]
     },
     "execution_count": 296,
     "metadata": {},
     "output_type": "execute_result"
    }
   ],
   "source": [
    "len(gt_for_f1['geometry'].values)"
   ]
  },
  {
   "cell_type": "code",
   "execution_count": 317,
   "metadata": {},
   "outputs": [],
   "source": [
    "pred_filtered = pred_for_f1['geometry'].values[np.array(pred_areas) > 10000]"
   ]
  },
  {
   "cell_type": "code",
   "execution_count": 318,
   "metadata": {},
   "outputs": [
    {
     "data": {
      "text/plain": [
       "581"
      ]
     },
     "execution_count": 318,
     "metadata": {},
     "output_type": "execute_result"
    }
   ],
   "source": [
    "len(pred_filtered)"
   ]
  },
  {
   "cell_type": "code",
   "execution_count": 319,
   "metadata": {},
   "outputs": [],
   "source": [
    "metrics = F1_score(pred_filtered, gt_for_f1['geometry'].values, 0.5)\n",
    "F1 = metrics[0]"
   ]
  },
  {
   "cell_type": "code",
   "execution_count": 320,
   "metadata": {},
   "outputs": [
    {
     "data": {
      "text/plain": [
       "(0.49260450160771707, 0.3932238193018481, 0.6592082616179001)"
      ]
     },
     "execution_count": 320,
     "metadata": {},
     "output_type": "execute_result"
    }
   ],
   "source": [
    "\n",
    "metrics"
   ]
  },
  {
   "cell_type": "code",
   "execution_count": null,
   "metadata": {},
   "outputs": [],
   "source": []
  },
  {
   "cell_type": "code",
   "execution_count": null,
   "metadata": {},
   "outputs": [],
   "source": []
  }
 ],
 "metadata": {
  "kernelspec": {
   "display_name": "Python 3",
   "language": "python",
   "name": "python3"
  },
  "language_info": {
   "codemirror_mode": {
    "name": "ipython",
    "version": 3
   },
   "file_extension": ".py",
   "mimetype": "text/x-python",
   "name": "python",
   "nbconvert_exporter": "python",
   "pygments_lexer": "ipython3",
   "version": "3.6.8"
  }
 },
 "nbformat": 4,
 "nbformat_minor": 2
}
